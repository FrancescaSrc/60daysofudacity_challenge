{
 "cells": [
  {
   "cell_type": "markdown",
   "metadata": {},
   "source": [
    "# Predict real estate prices with Keras and TensorFlow"
   ]
  },
  {
   "cell_type": "markdown",
   "metadata": {},
   "source": [
    "In this tutorial I will build an app using the standard housing csv.\n",
    "It is quite typcal case, the idea of this exercise is to implement an app on the base of the calculated model.\n",
    "I followed and took the code directly from the tutorial of this book:\n",
    "    https://docs.google.com/spreadsheets/d/1gXdjO_yjkS4KJ-J4TYzTD12FTucVLwR5_f2uyJopNLY/edit?usp=sharing\n",
    "    However the app implementation is my own code, the book proposes a code in Java but I chose to implement it in Kotlin\n",
    "        "
   ]
  },
  {
   "cell_type": "code",
   "execution_count": null,
   "metadata": {},
   "outputs": [],
   "source": [
    "#!pip install keras"
   ]
  },
  {
   "cell_type": "code",
   "execution_count": 3,
   "metadata": {},
   "outputs": [
    {
     "name": "stderr",
     "output_type": "stream",
     "text": [
      "Using TensorFlow backend.\n"
     ]
    }
   ],
   "source": [
    "import numpy\n",
    "import pandas as pd\n",
    "from keras.models import Sequential\n",
    "from keras.layers import Dense\n",
    "from keras import optimizers\n",
    "from keras.wrappers.scikit_learn import KerasRegressor\n",
    "from sklearn.model_selection import cross_val_score\n",
    "from sklearn.model_selection import KFold\n",
    "from sklearn.preprocessing import StandardScaler\n",
    "from sklearn.pipeline import Pipeline"
   ]
  },
  {
   "cell_type": "code",
   "execution_count": null,
   "metadata": {},
   "outputs": [],
   "source": []
  },
  {
   "cell_type": "code",
   "execution_count": 5,
   "metadata": {},
   "outputs": [],
   "source": [
    "#importing the dataset\n",
    "dataframe = pd.read_csv(\"housing.csv\", sep=',', header=0)\n",
    "dataset = dataframe.values"
   ]
  },
  {
   "cell_type": "code",
   "execution_count": 6,
   "metadata": {},
   "outputs": [
    {
     "data": {
      "text/html": [
       "<div>\n",
       "<style scoped>\n",
       "    .dataframe tbody tr th:only-of-type {\n",
       "        vertical-align: middle;\n",
       "    }\n",
       "\n",
       "    .dataframe tbody tr th {\n",
       "        vertical-align: top;\n",
       "    }\n",
       "\n",
       "    .dataframe thead th {\n",
       "        text-align: right;\n",
       "    }\n",
       "</style>\n",
       "<table border=\"1\" class=\"dataframe\">\n",
       "  <thead>\n",
       "    <tr style=\"text-align: right;\">\n",
       "      <th></th>\n",
       "      <th>BIZPROP</th>\n",
       "      <th>ROOMS</th>\n",
       "      <th>AGE</th>\n",
       "      <th>HIGHWAYS</th>\n",
       "      <th>TAX</th>\n",
       "      <th>PTRATIO</th>\n",
       "      <th>LSTAT</th>\n",
       "      <th>VALUE</th>\n",
       "    </tr>\n",
       "  </thead>\n",
       "  <tbody>\n",
       "    <tr>\n",
       "      <th>0</th>\n",
       "      <td>19.58</td>\n",
       "      <td>7.489</td>\n",
       "      <td>90.8</td>\n",
       "      <td>5</td>\n",
       "      <td>403</td>\n",
       "      <td>14.7</td>\n",
       "      <td>1.73</td>\n",
       "      <td>50.0</td>\n",
       "    </tr>\n",
       "    <tr>\n",
       "      <th>1</th>\n",
       "      <td>19.58</td>\n",
       "      <td>7.802</td>\n",
       "      <td>98.2</td>\n",
       "      <td>5</td>\n",
       "      <td>403</td>\n",
       "      <td>14.7</td>\n",
       "      <td>1.92</td>\n",
       "      <td>50.0</td>\n",
       "    </tr>\n",
       "    <tr>\n",
       "      <th>2</th>\n",
       "      <td>19.58</td>\n",
       "      <td>8.375</td>\n",
       "      <td>93.9</td>\n",
       "      <td>5</td>\n",
       "      <td>403</td>\n",
       "      <td>14.7</td>\n",
       "      <td>3.32</td>\n",
       "      <td>50.0</td>\n",
       "    </tr>\n",
       "    <tr>\n",
       "      <th>3</th>\n",
       "      <td>19.58</td>\n",
       "      <td>7.929</td>\n",
       "      <td>96.2</td>\n",
       "      <td>5</td>\n",
       "      <td>403</td>\n",
       "      <td>14.7</td>\n",
       "      <td>3.70</td>\n",
       "      <td>50.0</td>\n",
       "    </tr>\n",
       "    <tr>\n",
       "      <th>4</th>\n",
       "      <td>2.46</td>\n",
       "      <td>7.831</td>\n",
       "      <td>53.6</td>\n",
       "      <td>3</td>\n",
       "      <td>193</td>\n",
       "      <td>17.8</td>\n",
       "      <td>4.45</td>\n",
       "      <td>50.0</td>\n",
       "    </tr>\n",
       "  </tbody>\n",
       "</table>\n",
       "</div>"
      ],
      "text/plain": [
       "   BIZPROP  ROOMS   AGE  HIGHWAYS  TAX  PTRATIO  LSTAT  VALUE\n",
       "0    19.58  7.489  90.8         5  403     14.7   1.73   50.0\n",
       "1    19.58  7.802  98.2         5  403     14.7   1.92   50.0\n",
       "2    19.58  8.375  93.9         5  403     14.7   3.32   50.0\n",
       "3    19.58  7.929  96.2         5  403     14.7   3.70   50.0\n",
       "4     2.46  7.831  53.6         3  193     17.8   4.45   50.0"
      ]
     },
     "execution_count": 6,
     "metadata": {},
     "output_type": "execute_result"
    }
   ],
   "source": [
    "#reading the dataset\n",
    "dataframe.head()"
   ]
  },
  {
   "cell_type": "markdown",
   "metadata": {},
   "source": [
    "The dataset has eight columns, details of each column are given as follows:\n",
    "\n",
    "- BIZPROP: Proportion of non-retail business acres per town\n",
    "- ROOMS: Average number of rooms per dwelling\n",
    "- AGE: Proportion of owner-occupied units built before 1940\n",
    "- HIGHWAYS: Index of accessibility to radial highways\n",
    "- TAX: Full-value property tax rate per $10,000\n",
    "- PTRATIO: Pupil-to-teacher ratio by town\n",
    "- LSTAT: Percentage of lower status of the population\n",
    "- VALUE: Median value of owner-occupied homes in thousand dollars (target variable)"
   ]
  },
  {
   "cell_type": "code",
   "execution_count": null,
   "metadata": {},
   "outputs": [],
   "source": [
    "features = dataset[:,0:7]\n",
    "target = dataset[:,7]"
   ]
  },
  {
   "cell_type": "code",
   "execution_count": null,
   "metadata": {},
   "outputs": [],
   "source": [
    "dataset.shape"
   ]
  },
  {
   "cell_type": "code",
   "execution_count": null,
   "metadata": {},
   "outputs": [],
   "source": [
    "# fix random seed for reproducibility \n",
    "seed = 9 \n",
    "numpy.random.seed(seed)"
   ]
  },
  {
   "cell_type": "code",
   "execution_count": 13,
   "metadata": {},
   "outputs": [],
   "source": [
    "def simple_shallow_seq_net():\n",
    "   # create a sequential ANN \n",
    "    model = Sequential()\n",
    "    # linear stack of layers\n",
    "    model.add(Dense(7, input_dim=7, kernel_initializer='normal', activation='sigmoid')) \n",
    "    # another layer with a single neuron initialized using a random normal distribution\n",
    "    model.add(Dense(1, kernel_initializer='normal')) \n",
    "    sgd = optimizers.SGD(lr=0.01) \n",
    "    # mean squared error (MSE) cost function to measure the magnitude of the error rate of the model\n",
    "    model.compile(loss='mean_squared_error', optimizer=sgd) \n",
    "    return model"
   ]
  },
  {
   "cell_type": "markdown",
   "metadata": {},
   "source": [
    "The next step is to set a random seed for reproducibility; this random function is used to split the data into training and validation. The method used is **k-fold validation**, where the data is randomly divided into 10 subsets for training and validation:\n"
   ]
  },
  {
   "cell_type": "code",
   "execution_count": 14,
   "metadata": {},
   "outputs": [],
   "source": [
    "seed = 9 \n",
    "kfold = KFold(n_splits=10, random_state=seed)"
   ]
  },
  {
   "cell_type": "markdown",
   "metadata": {},
   "source": [
    "Fit this model to predict a numerical value (house price, in this case), therefore we use KerasRegressor. KerasRegressor is a Keras wrapper used to access the regression estimators for the model from sklearn"
   ]
  },
  {
   "cell_type": "code",
   "execution_count": 16,
   "metadata": {},
   "outputs": [],
   "source": [
    "estimator = KerasRegressor(build_fn=simple_shallow_seq_net, epochs=100, batch_size=50, verbose=0)"
   ]
  },
  {
   "cell_type": "code",
   "execution_count": 27,
   "metadata": {},
   "outputs": [
    {
     "name": "stdout",
     "output_type": "stream",
     "text": [
      "simple_shallow_seq_model:(162.76) MSE\n"
     ]
    }
   ],
   "source": [
    "# train and cross-validate across the subsets of the data and print the MSE\n",
    "results = cross_val_score(estimator, features, target, cv=kfold) \n",
    "print(\"simple_shallow_seq_model:(%.2f) MSE\" % (results.std()))"
   ]
  },
  {
   "cell_type": "code",
   "execution_count": 28,
   "metadata": {},
   "outputs": [],
   "source": [
    "estimator.fit(features, target)\n",
    "estimator.model.save('simple_shallow_seq_net.h5')"
   ]
  },
  {
   "cell_type": "markdown",
   "metadata": {},
   "source": [
    "Now, we try to improve its performance (lower the MSE) when we standardize the data and use it.\n",
    "Create a pipeline to standardize the data and then use it during every learning cycle of the network. "
   ]
  },
  {
   "cell_type": "code",
   "execution_count": 29,
   "metadata": {},
   "outputs": [],
   "source": [
    "estimators = [] \n",
    "estimators.append(('standardize', StandardScaler())) \n",
    "estimators.append(('estimator', KerasRegressor(build_fn=simple_shallow_seq_net, epochs=100, batch_size=50, verbose=0))) \n",
    "pipeline = Pipeline(estimators)"
   ]
  },
  {
   "cell_type": "code",
   "execution_count": 30,
   "metadata": {},
   "outputs": [
    {
     "name": "stdout",
     "output_type": "stream",
     "text": [
      "simple_std_shallow_seq_net:(65.15) MSE\n"
     ]
    }
   ],
   "source": [
    "results = cross_val_score(pipeline, features, target, cv=kfold) \n",
    "print(\"simple_std_shallow_seq_net:(%.2f) MSE\" % (results.std()))"
   ]
  },
  {
   "cell_type": "code",
   "execution_count": 31,
   "metadata": {},
   "outputs": [],
   "source": [
    "pipeline.fit(features, target) \n",
    "pipeline.named_steps['estimator'].model.save('standardised_shallow_seq_net.h5')"
   ]
  },
  {
   "cell_type": "code",
   "execution_count": 32,
   "metadata": {},
   "outputs": [],
   "source": [
    "def deep_seq_net(): \n",
    "    # create a deep sequential model \n",
    "    model = Sequential() \n",
    "    model.add(Dense(7, input_dim=7, kernel_initializer='normal', activation='sigmoid')) \n",
    "    model.add(Dense(7,activation='tanh')) \n",
    "    model.add(Dense(7,activation='sigmoid')) \n",
    "    model.add(Dense(7,activation='tanh')) \n",
    "    model.add(Dense(1, kernel_initializer='normal')) \n",
    "    sgd = optimizers.SGD(lr=0.01) \n",
    "    model.compile(loss='mean_squared_error', optimizer=sgd) \n",
    "    return model"
   ]
  },
  {
   "cell_type": "code",
   "execution_count": 36,
   "metadata": {},
   "outputs": [],
   "source": [
    "# Create the pipeline and fit the model using standardized data\n",
    "estimators = [] \n",
    "estimators.append(('standardize', StandardScaler()))\n",
    "estimators.append(('estimator', KerasRegressor(build_fn=deep_seq_net, epochs=100, batch_size=50, verbose=0))) \n",
    "pipeline = Pipeline(estimators)"
   ]
  },
  {
   "cell_type": "code",
   "execution_count": 37,
   "metadata": {},
   "outputs": [
    {
     "name": "stdout",
     "output_type": "stream",
     "text": [
      "simple_std_shallow_seq_net:(57.74) MSE\n"
     ]
    }
   ],
   "source": [
    "results = cross_val_score(pipeline, features, target, cv=kfold) \n",
    "print(\"simple_std_shallow_seq_net:(%.2f) MSE\" % (results.std()))"
   ]
  },
  {
   "cell_type": "code",
   "execution_count": 38,
   "metadata": {},
   "outputs": [],
   "source": [
    "pipeline.fit(features, target) \n",
    "pipeline.named_steps['estimator'].model.save('deep_seq_net.h5')"
   ]
  },
  {
   "cell_type": "markdown",
   "metadata": {},
   "source": [
    "Now, let's see what happens when we widen the network, that is, increase the number of neurons (nodes) in each layer. "
   ]
  },
  {
   "cell_type": "code",
   "execution_count": 39,
   "metadata": {},
   "outputs": [],
   "source": [
    "def deep_and_wide_net(): \n",
    "    # create a deep sequential model \n",
    "    model = Sequential() \n",
    "    model.add(Dense(21, input_dim=7, kernel_initializer='normal', activation='sigmoid')) \n",
    "    model.add(Dense(21,activation='relu')) \n",
    "    model.add(Dense(21,activation='relu')) \n",
    "    model.add(Dense(21,activation='sigmoid')) \n",
    "    model.add(Dense(1, kernel_initializer='normal')) \n",
    "    sgd = optimizers.SGD(lr=0.01) \n",
    "    model.compile(loss='mean_squared_error', optimizer=sgd) \n",
    "    return model"
   ]
  },
  {
   "cell_type": "code",
   "execution_count": 40,
   "metadata": {},
   "outputs": [],
   "source": [
    "estimators = [] \n",
    "estimators.append(('standardize', StandardScaler())) \n",
    "estimators.append(('estimator', KerasRegressor(build_fn=deep_and_wide_net, epochs=100, batch_size=50, verbose=0))) \n",
    "pipeline = Pipeline(estimators)"
   ]
  },
  {
   "cell_type": "code",
   "execution_count": 41,
   "metadata": {},
   "outputs": [
    {
     "name": "stdout",
     "output_type": "stream",
     "text": [
      "deep_and_wide_model:(59.07) MSE\n"
     ]
    }
   ],
   "source": [
    "results = cross_val_score(pipeline, features, target, cv=kfold) \n",
    "print(\"deep_and_wide_model:(%.2f) MSE\" % (results.std()))"
   ]
  },
  {
   "cell_type": "code",
   "execution_count": 42,
   "metadata": {},
   "outputs": [],
   "source": [
    "pipeline.fit(features, target) \n",
    "pipeline.named_steps['estimator'].model.save('deep_and_wide_net.h5')"
   ]
  },
  {
   "cell_type": "code",
   "execution_count": 101,
   "metadata": {},
   "outputs": [],
   "source": [
    "from keras.models import load_model\n",
    "from keras import backend as K\n",
    "def add(bizprop, rooms, age, highways, tax, ptratio, lstat):\n",
    "    \n",
    "    # This is where we load the actual saved model into new variable. \n",
    "    deep_and_wide_net = load_model('deep_and_wide_net.h5') \n",
    "    # Now we can use this to predict on new data \n",
    "    value = deep_and_wide_net.predict_on_batch(numpy.array([[bizprop, rooms, age, highways, tax, ptratio, lstat]], dtype=float)) \n",
    "    estimate =  \"{:.0f}\".format(value.item()*10000)\n",
    "    K.clear_session()\n",
    "\n",
    "    return estimate"
   ]
  },
  {
   "cell_type": "code",
   "execution_count": null,
   "metadata": {},
   "outputs": [],
   "source": [
    "pred = add(20, 5, 655, 55, 5, 55, 5)\n",
    "\n",
    "print(str(pred))"
   ]
  },
  {
   "cell_type": "markdown",
   "metadata": {},
   "source": [
    "# Serving the model as an API"
   ]
  },
  {
   "cell_type": "code",
   "execution_count": null,
   "metadata": {},
   "outputs": [],
   "source": [
    "At this point you have a model you can use in your API to show your predictions on your app."
   ]
  },
  {
   "cell_type": "code",
   "execution_count": null,
   "metadata": {},
   "outputs": [],
   "source": [
    "#!pip install Flask\n",
    "# install Flask"
   ]
  },
  {
   "cell_type": "code",
   "execution_count": 44,
   "metadata": {},
   "outputs": [],
   "source": [
    "#create a python file named  simple_api.py and type:\n",
    "from flask import Flask, request \n",
    "app = Flask(__name__)"
   ]
  },
  {
   "cell_type": "code",
   "execution_count": 45,
   "metadata": {},
   "outputs": [],
   "source": [
    "# test your app\n",
    "@app.route('/') \n",
    "def hello_world(): \n",
    "    return 'This is the Index page'\n",
    "\n",
    "@app.route('/add', methods=['POST']) \n",
    "def add(): \n",
    "    req_data = request.get_json() \n",
    "    number_1 = req_data['number_1'] \n",
    "    number_2 = req_data['number_2'] \n",
    "    return str(int(number_1)+int(number_2))"
   ]
  },
  {
   "cell_type": "code",
   "execution_count": 46,
   "metadata": {},
   "outputs": [],
   "source": [
    "# save your app as simple_api.py"
   ]
  },
  {
   "cell_type": "markdown",
   "metadata": {},
   "source": [
    "Open terminal and type:\n",
    "\n",
    "Windows\n",
    "\n",
    "set FLASK_APP=simple_api\n",
    "\n",
    "Linux and Mac\n",
    "\n",
    "export FLASK_APP=simple_api\n",
    "\n",
    "\n",
    "flask run"
   ]
  },
  {
   "cell_type": "markdown",
   "metadata": {},
   "source": [
    "### Now the real code for your API"
   ]
  },
  {
   "cell_type": "code",
   "execution_count": null,
   "metadata": {},
   "outputs": [],
   "source": [
    "#copy this code and save it as predict_api.py\n",
    "from flask import Flask, request \n",
    "from keras.models import load_model\n",
    "from keras import backend as K\n",
    "\n",
    "import numpy \n",
    "app = Flask(__name__)\n",
    "@app.route('/') \n",
    "def hello_world(): \n",
    "    return 'Housing price predict app'\n",
    "\n",
    "\n",
    "@app.route('/predict', methods=['POST']) \n",
    "def add():\n",
    "    req_data = request.get_json()\n",
    "    bizprop = req_data['bizprop'] \n",
    "    rooms = req_data['rooms']\n",
    "    age = req_data['age'] \n",
    "    highways = req_data['highways'] \n",
    "    tax = req_data['tax']\n",
    "    ptratio = req_data['ptratio'] \n",
    "    lstat = req_data['lstat']\n",
    "    # This is where we load the actual saved model into new variable. \n",
    "    deep_and_wide_net = load_model('deep_and_wide_net.h5') \n",
    "    # Now we can use this to predict on new data \n",
    "    value = deep_and_wide_net.predict_on_batch(numpy.array([[bizprop, rooms, age, highways, tax, ptratio, lstat]], dtype=float)) \n",
    "    K.clear_session()\n",
    "    #this is to format your number, I am not sure if the price is correct though...\n",
    "    estimate =  \"{:.0f}\".format(value.item()*10000)\n",
    "\n",
    "\n",
    "    return str(estimate)"
   ]
  },
  {
   "cell_type": "markdown",
   "metadata": {},
   "source": [
    "Check if it is working by typing in your terminal:\n",
    "\n",
    "    curl -i -X POST -H \"Content-Type: application/json\" -d \"{\\\"bizprop\\\":\\\"1\\\",\\\"rooms\\\":\\\"2\\\",\\\"age\\\":\\\"1\\\",\\\"highways\\\":\\\"1\\\",\\\"tax\\\":\\\"1\\\",\\\"ptratio\\\":\\\"1\\\",\\\"lstat\\\":\\\"1\\\"}\" http://127.0.0.1:5000/predict"
   ]
  },
  {
   "cell_type": "markdown",
   "metadata": {},
   "source": [
    "# Coding your app in Kotlin"
   ]
  },
  {
   "cell_type": "markdown",
   "metadata": {},
   "source": [
    "1. create a new project, empty activity\n",
    "2. create the layout \n",
    "3. in the Oncreate method add all the fields\n",
    "4. create a json object with the values of the fields\n",
    "5. install the library Ion by adding this dependency to the gradle: \n",
    "`implementation 'com.koushikdutta.ion:ion:2.+`\n",
    "6. implement the API request with a function similar to this one:\n",
    "    \n",
    "    ``\n",
    "  override fun onCreate(savedInstanceState: Bundle?) {\n",
    "        super.onCreate(savedInstanceState)\n",
    "        setContentView(R.layout.activity_main)\n",
    "\n",
    "        var bizprop = findViewById<TextView>(R.id.bizprop_edit)\n",
    "        var rooms = findViewById<TextView>(R.id.rooms_edit)\n",
    "        var age = findViewById<TextView>(R.id.age_edit)\n",
    "        var highways = findViewById<TextView>(R.id.highways_edit)\n",
    "        var tax = findViewById<TextView>(R.id.tax_edit)\n",
    "        var ptratio = findViewById<TextView>(R.id.ptratio_edit)\n",
    "        var lstat = findViewById<TextView>(R.id.lstat_edit)\n",
    "        var value = findViewById<TextView>(R.id.value)\n",
    "\n",
    "        // this calls the onclick function below\n",
    "        btn_estimate.setOnClickListener(this)\n",
    "\n",
    "    }\n",
    "\n",
    "    override fun onClick(v: View?) {\n",
    "        //var json = makeJson()\n",
    "        Toast.makeText(this, \"clicked\", Toast.LENGTH_SHORT).show()\n",
    "        sendDataToAPI()\n",
    "    }\n",
    "  \n",
    "  fun makeJson(): JsonObject {\n",
    "        var json = JsonObject()\n",
    "\n",
    "        try {\n",
    "            json.addProperty(\"bizprop\", bizprop_edit.text.toString())\n",
    "            json.addProperty(\"age\", age_edit.text.toString())\n",
    "            json.addProperty(\"rooms\", rooms_edit.text.toString())\n",
    "            json.addProperty(\"tax\", tax_edit.text.toString())\n",
    "            json.addProperty(\"age\", age_edit.text.toString())\n",
    "            json.addProperty(\"highways\", highways_edit.text.toString())\n",
    "            json.addProperty(\"ptratio\", ptratio_edit.text.toString())\n",
    "            json.addProperty(\"lstat\", lstat_edit.text.toString())\n",
    "\n",
    "        } catch (exception: Exception){\n",
    "            Log.i(\"json\", \"error with creating jsono object: \"+ exception)\n",
    "        }\n",
    "\n",
    "        Log.i(\"josonoject\", json.toString())\n",
    "\n",
    "        return json\n",
    "    }\n",
    "\n",
    "    fun sendDataToAPI () {\n",
    "\n",
    "        var json = makeJson() as JsonObject\n",
    "\n",
    "        try {\n",
    "            Log.d(\"testtest\", \"The json result is: \\n $json\")\n",
    "            Ion.with(getApplicationContext())\n",
    "                .load(\"post\", \"http://10.0.2.2:5000/predict\")\n",
    "                .setHeader(\"Content-Type\", \"application/json\")\n",
    "                .setLogging(\"Issue200\", Log.VERBOSE)\n",
    "                .setJsonObjectBody(json)\n",
    "                .asString()\n",
    "                .setCallback { ex, result ->\n",
    "                    value.setText(result)\n",
    "                    Log.d(\"result\", \"The json result is: \\n $result\")\n",
    "                    Log.d(\"result\", \"The error is $ex\")\n",
    "                    }\n",
    "            }catch (exception: Exception){\n",
    "            Log.i(\"error\", \"something went wrong \"+ exception)\n",
    "        }\n",
    "\n",
    "    }\n",
    "            \n",
    "    #in android the local host url is: http://10.0.2.2:5000/\n",
    "7. implement the error handling\n",
    "8. Run you app!"
   ]
  },
  {
   "cell_type": "code",
   "execution_count": null,
   "metadata": {},
   "outputs": [],
   "source": []
  },
  {
   "cell_type": "code",
   "execution_count": null,
   "metadata": {},
   "outputs": [],
   "source": []
  },
  {
   "cell_type": "code",
   "execution_count": null,
   "metadata": {},
   "outputs": [],
   "source": []
  },
  {
   "cell_type": "code",
   "execution_count": null,
   "metadata": {},
   "outputs": [],
   "source": []
  }
 ],
 "metadata": {
  "kernelspec": {
   "display_name": "Python 3",
   "language": "python",
   "name": "python3"
  },
  "language_info": {
   "codemirror_mode": {
    "name": "ipython",
    "version": 3
   },
   "file_extension": ".py",
   "mimetype": "text/x-python",
   "name": "python",
   "nbconvert_exporter": "python",
   "pygments_lexer": "ipython3",
   "version": "3.7.3"
  }
 },
 "nbformat": 4,
 "nbformat_minor": 2
}
