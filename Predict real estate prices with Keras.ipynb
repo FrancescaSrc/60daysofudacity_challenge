{
 "cells": [
  {
   "cell_type": "markdown",
   "metadata": {},
   "source": [
    "# Predict real estate prices with Keras and TensorFlow"
   ]
  },
  {
   "cell_type": "code",
   "execution_count": 2,
   "metadata": {},
   "outputs": [
    {
     "name": "stdout",
     "output_type": "stream",
     "text": [
      "Collecting keras\n",
      "  Using cached https://files.pythonhosted.org/packages/5e/10/aa32dad071ce52b5502266b5c659451cfd6ffcbf14e6c8c4f16c0ff5aaab/Keras-2.2.4-py2.py3-none-any.whl\n",
      "Requirement already satisfied: keras-applications>=1.0.6 in c:\\users\\france\\temp-conda\\envs\\tfprivateai\\lib\\site-packages (from keras) (1.0.8)\n",
      "Requirement already satisfied: scipy>=0.14 in c:\\users\\france\\temp-conda\\envs\\tfprivateai\\lib\\site-packages (from keras) (1.3.0)\n",
      "Requirement already satisfied: pyyaml in c:\\users\\france\\temp-conda\\envs\\tfprivateai\\lib\\site-packages (from keras) (5.1)\n",
      "Requirement already satisfied: keras-preprocessing>=1.0.5 in c:\\users\\france\\temp-conda\\envs\\tfprivateai\\lib\\site-packages (from keras) (1.1.0)\n",
      "Requirement already satisfied: numpy>=1.9.1 in c:\\users\\france\\temp-conda\\envs\\tfprivateai\\lib\\site-packages (from keras) (1.16.4)\n",
      "Requirement already satisfied: six>=1.9.0 in c:\\users\\france\\temp-conda\\envs\\tfprivateai\\lib\\site-packages (from keras) (1.12.0)\n",
      "Requirement already satisfied: h5py in c:\\users\\france\\temp-conda\\envs\\tfprivateai\\lib\\site-packages (from keras) (2.9.0)\n",
      "Installing collected packages: keras\n",
      "Successfully installed keras-2.2.4\n"
     ]
    }
   ],
   "source": [
    "!pip install keras"
   ]
  },
  {
   "cell_type": "code",
   "execution_count": 3,
   "metadata": {},
   "outputs": [
    {
     "name": "stderr",
     "output_type": "stream",
     "text": [
      "Using TensorFlow backend.\n"
     ]
    }
   ],
   "source": [
    "import numpy\n",
    "import pandas as pd\n",
    "from keras.models import Sequential\n",
    "from keras.layers import Dense\n",
    "from keras import optimizers\n",
    "from keras.wrappers.scikit_learn import KerasRegressor\n",
    "from sklearn.model_selection import cross_val_score\n",
    "from sklearn.model_selection import KFold\n",
    "from sklearn.preprocessing import StandardScaler\n",
    "from sklearn.pipeline import Pipeline"
   ]
  },
  {
   "cell_type": "code",
   "execution_count": null,
   "metadata": {},
   "outputs": [],
   "source": []
  },
  {
   "cell_type": "code",
   "execution_count": 5,
   "metadata": {},
   "outputs": [],
   "source": [
    "dataframe = pd.read_csv(\"housing.csv\", sep=',', header=0)\n",
    "dataset = dataframe.values"
   ]
  },
  {
   "cell_type": "code",
   "execution_count": 6,
   "metadata": {},
   "outputs": [
    {
     "data": {
      "text/html": [
       "<div>\n",
       "<style scoped>\n",
       "    .dataframe tbody tr th:only-of-type {\n",
       "        vertical-align: middle;\n",
       "    }\n",
       "\n",
       "    .dataframe tbody tr th {\n",
       "        vertical-align: top;\n",
       "    }\n",
       "\n",
       "    .dataframe thead th {\n",
       "        text-align: right;\n",
       "    }\n",
       "</style>\n",
       "<table border=\"1\" class=\"dataframe\">\n",
       "  <thead>\n",
       "    <tr style=\"text-align: right;\">\n",
       "      <th></th>\n",
       "      <th>BIZPROP</th>\n",
       "      <th>ROOMS</th>\n",
       "      <th>AGE</th>\n",
       "      <th>HIGHWAYS</th>\n",
       "      <th>TAX</th>\n",
       "      <th>PTRATIO</th>\n",
       "      <th>LSTAT</th>\n",
       "      <th>VALUE</th>\n",
       "    </tr>\n",
       "  </thead>\n",
       "  <tbody>\n",
       "    <tr>\n",
       "      <th>0</th>\n",
       "      <td>19.58</td>\n",
       "      <td>7.489</td>\n",
       "      <td>90.8</td>\n",
       "      <td>5</td>\n",
       "      <td>403</td>\n",
       "      <td>14.7</td>\n",
       "      <td>1.73</td>\n",
       "      <td>50.0</td>\n",
       "    </tr>\n",
       "    <tr>\n",
       "      <th>1</th>\n",
       "      <td>19.58</td>\n",
       "      <td>7.802</td>\n",
       "      <td>98.2</td>\n",
       "      <td>5</td>\n",
       "      <td>403</td>\n",
       "      <td>14.7</td>\n",
       "      <td>1.92</td>\n",
       "      <td>50.0</td>\n",
       "    </tr>\n",
       "    <tr>\n",
       "      <th>2</th>\n",
       "      <td>19.58</td>\n",
       "      <td>8.375</td>\n",
       "      <td>93.9</td>\n",
       "      <td>5</td>\n",
       "      <td>403</td>\n",
       "      <td>14.7</td>\n",
       "      <td>3.32</td>\n",
       "      <td>50.0</td>\n",
       "    </tr>\n",
       "    <tr>\n",
       "      <th>3</th>\n",
       "      <td>19.58</td>\n",
       "      <td>7.929</td>\n",
       "      <td>96.2</td>\n",
       "      <td>5</td>\n",
       "      <td>403</td>\n",
       "      <td>14.7</td>\n",
       "      <td>3.70</td>\n",
       "      <td>50.0</td>\n",
       "    </tr>\n",
       "    <tr>\n",
       "      <th>4</th>\n",
       "      <td>2.46</td>\n",
       "      <td>7.831</td>\n",
       "      <td>53.6</td>\n",
       "      <td>3</td>\n",
       "      <td>193</td>\n",
       "      <td>17.8</td>\n",
       "      <td>4.45</td>\n",
       "      <td>50.0</td>\n",
       "    </tr>\n",
       "  </tbody>\n",
       "</table>\n",
       "</div>"
      ],
      "text/plain": [
       "   BIZPROP  ROOMS   AGE  HIGHWAYS  TAX  PTRATIO  LSTAT  VALUE\n",
       "0    19.58  7.489  90.8         5  403     14.7   1.73   50.0\n",
       "1    19.58  7.802  98.2         5  403     14.7   1.92   50.0\n",
       "2    19.58  8.375  93.9         5  403     14.7   3.32   50.0\n",
       "3    19.58  7.929  96.2         5  403     14.7   3.70   50.0\n",
       "4     2.46  7.831  53.6         3  193     17.8   4.45   50.0"
      ]
     },
     "execution_count": 6,
     "metadata": {},
     "output_type": "execute_result"
    }
   ],
   "source": [
    "dataframe.head()"
   ]
  },
  {
   "cell_type": "code",
   "execution_count": 7,
   "metadata": {},
   "outputs": [],
   "source": [
    "features = dataset[:,0:7]\n",
    "target = dataset[:,7]"
   ]
  },
  {
   "cell_type": "code",
   "execution_count": 26,
   "metadata": {},
   "outputs": [
    {
     "data": {
      "text/plain": [
       "(506, 8)"
      ]
     },
     "execution_count": 26,
     "metadata": {},
     "output_type": "execute_result"
    }
   ],
   "source": [
    "dataset.shape"
   ]
  },
  {
   "cell_type": "code",
   "execution_count": 8,
   "metadata": {},
   "outputs": [],
   "source": [
    "# fix random seed for reproducibility \n",
    "seed = 9 \n",
    "numpy.random.seed(seed)"
   ]
  },
  {
   "cell_type": "code",
   "execution_count": 13,
   "metadata": {},
   "outputs": [],
   "source": [
    "def simple_shallow_seq_net():\n",
    "   # create a sequential ANN \n",
    "    model = Sequential()\n",
    "    # linear stack of layers\n",
    "    model.add(Dense(7, input_dim=7, kernel_initializer='normal', activation='sigmoid')) \n",
    "    # another layer with a single neuron initialized using a random normal distribution\n",
    "    model.add(Dense(1, kernel_initializer='normal')) \n",
    "    sgd = optimizers.SGD(lr=0.01) \n",
    "    # mean squared error (MSE) cost function to measure the magnitude of the error rate of the model\n",
    "    model.compile(loss='mean_squared_error', optimizer=sgd) \n",
    "    return model"
   ]
  },
  {
   "cell_type": "markdown",
   "metadata": {},
   "source": [
    "The next step is to set a random seed for reproducibility; this random function is used to split the data into training and validation. The method used is **k-fold validation**, where the data is randomly divided into 10 subsets for training and validation:\n"
   ]
  },
  {
   "cell_type": "code",
   "execution_count": 14,
   "metadata": {},
   "outputs": [],
   "source": [
    "seed = 9 \n",
    "kfold = KFold(n_splits=10, random_state=seed)"
   ]
  },
  {
   "cell_type": "markdown",
   "metadata": {},
   "source": [
    "Fit this model to predict a numerical value (house price, in this case), therefore we use KerasRegressor. KerasRegressor is a Keras wrapper used to access the regression estimators for the model from sklearn"
   ]
  },
  {
   "cell_type": "code",
   "execution_count": 16,
   "metadata": {},
   "outputs": [],
   "source": [
    "estimator = KerasRegressor(build_fn=simple_shallow_seq_net, epochs=100, batch_size=50, verbose=0)"
   ]
  },
  {
   "cell_type": "code",
   "execution_count": 27,
   "metadata": {},
   "outputs": [
    {
     "name": "stdout",
     "output_type": "stream",
     "text": [
      "simple_shallow_seq_model:(162.76) MSE\n"
     ]
    }
   ],
   "source": [
    "# train and cross-validate across the subsets of the data and print the MSE\n",
    "results = cross_val_score(estimator, features, target, cv=kfold) \n",
    "print(\"simple_shallow_seq_model:(%.2f) MSE\" % (results.std()))"
   ]
  },
  {
   "cell_type": "code",
   "execution_count": 28,
   "metadata": {},
   "outputs": [],
   "source": [
    "estimator.fit(features, target)\n",
    "estimator.model.save('simple_shallow_seq_net.h5')"
   ]
  },
  {
   "cell_type": "markdown",
   "metadata": {},
   "source": [
    "Now, we try to improve its performance (lower the MSE) when we standardize the data and use it.\n",
    "Create a pipeline to standardize the data and then use it during every learning cycle of the network. "
   ]
  },
  {
   "cell_type": "code",
   "execution_count": 29,
   "metadata": {},
   "outputs": [],
   "source": [
    "estimators = [] \n",
    "estimators.append(('standardize', StandardScaler())) \n",
    "estimators.append(('estimator', KerasRegressor(build_fn=simple_shallow_seq_net, epochs=100, batch_size=50, verbose=0))) \n",
    "pipeline = Pipeline(estimators)"
   ]
  },
  {
   "cell_type": "code",
   "execution_count": 30,
   "metadata": {},
   "outputs": [
    {
     "name": "stdout",
     "output_type": "stream",
     "text": [
      "simple_std_shallow_seq_net:(65.15) MSE\n"
     ]
    }
   ],
   "source": [
    "results = cross_val_score(pipeline, features, target, cv=kfold) \n",
    "print(\"simple_std_shallow_seq_net:(%.2f) MSE\" % (results.std()))"
   ]
  },
  {
   "cell_type": "code",
   "execution_count": 31,
   "metadata": {},
   "outputs": [],
   "source": [
    "pipeline.fit(features, target) \n",
    "pipeline.named_steps['estimator'].model.save('standardised_shallow_seq_net.h5')"
   ]
  },
  {
   "cell_type": "code",
   "execution_count": 32,
   "metadata": {},
   "outputs": [],
   "source": [
    "def deep_seq_net(): \n",
    "    # create a deep sequential model \n",
    "    model = Sequential() \n",
    "    model.add(Dense(7, input_dim=7, kernel_initializer='normal', activation='sigmoid')) \n",
    "    model.add(Dense(7,activation='tanh')) \n",
    "    model.add(Dense(7,activation='sigmoid')) \n",
    "    model.add(Dense(7,activation='tanh')) \n",
    "    model.add(Dense(1, kernel_initializer='normal')) \n",
    "    sgd = optimizers.SGD(lr=0.01) \n",
    "    model.compile(loss='mean_squared_error', optimizer=sgd) \n",
    "    return model"
   ]
  },
  {
   "cell_type": "code",
   "execution_count": 36,
   "metadata": {},
   "outputs": [],
   "source": [
    "# Create the pipeline and fit the model using standardized data\n",
    "estimators = [] \n",
    "estimators.append(('standardize', StandardScaler()))\n",
    "estimators.append(('estimator', KerasRegressor(build_fn=deep_seq_net, epochs=100, batch_size=50, verbose=0))) \n",
    "pipeline = Pipeline(estimators)"
   ]
  },
  {
   "cell_type": "code",
   "execution_count": 37,
   "metadata": {},
   "outputs": [
    {
     "name": "stdout",
     "output_type": "stream",
     "text": [
      "simple_std_shallow_seq_net:(57.74) MSE\n"
     ]
    }
   ],
   "source": [
    "results = cross_val_score(pipeline, features, target, cv=kfold) \n",
    "print(\"simple_std_shallow_seq_net:(%.2f) MSE\" % (results.std()))"
   ]
  },
  {
   "cell_type": "code",
   "execution_count": 38,
   "metadata": {},
   "outputs": [],
   "source": [
    "pipeline.fit(features, target) \n",
    "pipeline.named_steps['estimator'].model.save('deep_seq_net.h5')"
   ]
  },
  {
   "cell_type": "markdown",
   "metadata": {},
   "source": [
    "Now, let's see what happens when we widen the network, that is, increase the number of neurons (nodes) in each layer. "
   ]
  },
  {
   "cell_type": "code",
   "execution_count": 39,
   "metadata": {},
   "outputs": [],
   "source": [
    "def deep_and_wide_net(): \n",
    "    # create a deep sequential model \n",
    "    model = Sequential() \n",
    "    model.add(Dense(21, input_dim=7, kernel_initializer='normal', activation='sigmoid')) \n",
    "    model.add(Dense(21,activation='relu')) \n",
    "    model.add(Dense(21,activation='relu')) \n",
    "    model.add(Dense(21,activation='sigmoid')) \n",
    "    model.add(Dense(1, kernel_initializer='normal')) \n",
    "    sgd = optimizers.SGD(lr=0.01) \n",
    "    model.compile(loss='mean_squared_error', optimizer=sgd) \n",
    "    return model"
   ]
  },
  {
   "cell_type": "code",
   "execution_count": 40,
   "metadata": {},
   "outputs": [],
   "source": [
    "estimators = [] \n",
    "estimators.append(('standardize', StandardScaler())) \n",
    "estimators.append(('estimator', KerasRegressor(build_fn=deep_and_wide_net, epochs=100, batch_size=50, verbose=0))) \n",
    "pipeline = Pipeline(estimators)"
   ]
  },
  {
   "cell_type": "code",
   "execution_count": 41,
   "metadata": {},
   "outputs": [
    {
     "name": "stdout",
     "output_type": "stream",
     "text": [
      "deep_and_wide_model:(59.07) MSE\n"
     ]
    }
   ],
   "source": [
    "results = cross_val_score(pipeline, features, target, cv=kfold) \n",
    "print(\"deep_and_wide_model:(%.2f) MSE\" % (results.std()))"
   ]
  },
  {
   "cell_type": "code",
   "execution_count": 42,
   "metadata": {},
   "outputs": [],
   "source": [
    "pipeline.fit(features, target) \n",
    "pipeline.named_steps['estimator'].model.save('deep_and_wide_net.h5')"
   ]
  },
  {
   "cell_type": "markdown",
   "metadata": {},
   "source": [
    "# Serving the model as an API"
   ]
  },
  {
   "cell_type": "code",
   "execution_count": 43,
   "metadata": {},
   "outputs": [
    {
     "name": "stdout",
     "output_type": "stream",
     "text": [
      "Requirement already satisfied: Flask in c:\\users\\france\\temp-conda\\envs\\tfprivateai\\lib\\site-packages (1.0.3)\n",
      "Requirement already satisfied: Jinja2>=2.10 in c:\\users\\france\\temp-conda\\envs\\tfprivateai\\lib\\site-packages (from Flask) (2.10.1)\n",
      "Requirement already satisfied: Werkzeug>=0.14 in c:\\users\\france\\temp-conda\\envs\\tfprivateai\\lib\\site-packages (from Flask) (0.15.4)\n",
      "Requirement already satisfied: click>=5.1 in c:\\users\\france\\temp-conda\\envs\\tfprivateai\\lib\\site-packages (from Flask) (7.0)\n",
      "Requirement already satisfied: itsdangerous>=0.24 in c:\\users\\france\\temp-conda\\envs\\tfprivateai\\lib\\site-packages (from Flask) (1.1.0)\n",
      "Requirement already satisfied: MarkupSafe>=0.23 in c:\\users\\france\\temp-conda\\envs\\tfprivateai\\lib\\site-packages (from Jinja2>=2.10->Flask) (1.1.1)\n"
     ]
    }
   ],
   "source": [
    "!pip install Flask\n"
   ]
  },
  {
   "cell_type": "code",
   "execution_count": 44,
   "metadata": {},
   "outputs": [],
   "source": [
    "#create a python file named  simple_api.py and type:\n",
    "from flask import Flask, request \n",
    "app = Flask(__name__)"
   ]
  },
  {
   "cell_type": "code",
   "execution_count": 45,
   "metadata": {},
   "outputs": [],
   "source": [
    "@app.route('/') \n",
    "def hello_world(): \n",
    "    return 'This is the Index page'\n",
    "\n",
    "@app.route('/add', methods=['POST']) \n",
    "def add(): \n",
    "    req_data = request.get_json() \n",
    "    number_1 = req_data['number_1'] \n",
    "    number_2 = req_data['number_2'] \n",
    "    return str(int(number_1)+int(number_2))"
   ]
  },
  {
   "cell_type": "code",
   "execution_count": 46,
   "metadata": {},
   "outputs": [],
   "source": []
  },
  {
   "cell_type": "markdown",
   "metadata": {},
   "source": [
    "Open terminal and type:\n",
    "\n",
    "Windows\n",
    "\n",
    "set FLASK_APP=simple_api\n",
    "\n",
    "Linux and Mac\n",
    "\n",
    "export FLASK_APP=simple_api\n",
    "\n",
    "\n",
    "flask run"
   ]
  },
  {
   "cell_type": "code",
   "execution_count": null,
   "metadata": {},
   "outputs": [],
   "source": []
  }
 ],
 "metadata": {
  "kernelspec": {
   "display_name": "Python 3",
   "language": "python",
   "name": "python3"
  },
  "language_info": {
   "codemirror_mode": {
    "name": "ipython",
    "version": 3
   },
   "file_extension": ".py",
   "mimetype": "text/x-python",
   "name": "python",
   "nbconvert_exporter": "python",
   "pygments_lexer": "ipython3",
   "version": "3.7.3"
  }
 },
 "nbformat": 4,
 "nbformat_minor": 2
}
